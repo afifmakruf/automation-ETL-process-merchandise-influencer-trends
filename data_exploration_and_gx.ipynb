{
 "cells": [
  {
   "cell_type": "markdown",
   "id": "437d3b57-a979-4c1d-9765-f4382d739073",
   "metadata": {
    "jp-MarkdownHeadingCollapsed": true
   },
   "source": [
    "'''\n",
    "=================================================\n",
    "\n",
    "Milestone 3\n",
    "\n",
    "Nama : Afif Makruf<br>\n",
    "Batch : RMT-002\n",
    "\n",
    "Program ini dibuat untuk melakukan explorasi sederhana terhadap data penjualan merchandise influencer pada rentang tahun 2023-2024, serta pembuatan Great Expectation.<br> \n",
    "Hasil dari eksplorasi data ini akan digunakan sebagai acuan proses ETL\n",
    "\n",
    "'''\n",
    "================================================="
   ]
  },
  {
   "cell_type": "markdown",
   "id": "7b675bf7-c337-42bd-bafa-064254394528",
   "metadata": {},
   "source": [
    "# Eksplorasi Data"
   ]
  },
  {
   "cell_type": "markdown",
   "id": "f45f4aee-b926-445d-bb61-76600d505a12",
   "metadata": {},
   "source": [
    "Import library yang dibutuhkan"
   ]
  },
  {
   "cell_type": "code",
   "execution_count": 1,
   "id": "1b2f36c8-09a7-4b8a-8abe-ee515ee4aac7",
   "metadata": {},
   "outputs": [],
   "source": [
    "import pyspark\n",
    "from pyspark.sql import SparkSession"
   ]
  },
  {
   "cell_type": "markdown",
   "id": "1659ca75-86d8-4bc2-991c-128f70721bdf",
   "metadata": {},
   "source": [
    "Mulai proses eksplorasi data"
   ]
  },
  {
   "cell_type": "code",
   "execution_count": 2,
   "id": "54d891ea-6201-4f51-90f1-bc170ad32a51",
   "metadata": {},
   "outputs": [],
   "source": [
    "# Inisialisasi Spark Session\n",
    "spark = SparkSession.Builder().getOrCreate()"
   ]
  },
  {
   "cell_type": "code",
   "execution_count": 3,
   "id": "01a6c3d8-ad5b-45d1-8e70-77b4295e9ad5",
   "metadata": {},
   "outputs": [
    {
     "name": "stdout",
     "output_type": "stream",
     "text": [
      "-RECORD 0--------------------------------------\n",
      " Order ID               | 189440               \n",
      " Order Date             | 2024-07-21           \n",
      " Product ID             | BF1543               \n",
      " Product Category       | Clothing             \n",
      " Buyer Gender           | Male                 \n",
      " Buyer Age              | 30                   \n",
      " Order Location         | New Jersey           \n",
      " International Shipping | No                   \n",
      " Sales Price            | 100                  \n",
      " Shipping Charges       | 0                    \n",
      " Sales per Unit         | 100                  \n",
      " Quantity               | 1                    \n",
      " Total Sales            | 100                  \n",
      " Rating                 | 4                    \n",
      " Review                 | The delivery team... \n",
      "-RECORD 1--------------------------------------\n",
      " Order ID               | 187385               \n",
      " Order Date             | 2024-07-20           \n",
      " Product ID             | BF1543               \n",
      " Product Category       | Clothing             \n",
      " Buyer Gender           | Male                 \n",
      " Buyer Age              | 32                   \n",
      " Order Location         | Las Vegas            \n",
      " International Shipping | No                   \n",
      " Sales Price            | 100                  \n",
      " Shipping Charges       | 0                    \n",
      " Sales per Unit         | 100                  \n",
      " Quantity               | 1                    \n",
      " Total Sales            | 100                  \n",
      " Rating                 | 3                    \n",
      " Review                 | Had slight delays... \n",
      "-RECORD 2--------------------------------------\n",
      " Order ID               | 181844               \n",
      " Order Date             | 2024-07-21           \n",
      " Product ID             | BF1544               \n",
      " Product Category       | Other                \n",
      " Buyer Gender           | Female               \n",
      " Buyer Age              | 26                   \n",
      " Order Location         | Cardiff              \n",
      " International Shipping | Yes                  \n",
      " Sales Price            | 9                    \n",
      " Shipping Charges       | 40                   \n",
      " Sales per Unit         | 49                   \n",
      " Quantity               | 1                    \n",
      " Total Sales            | 49                   \n",
      " Rating                 | 2                    \n",
      " Review                 | Waste of Money.      \n",
      "-RECORD 3--------------------------------------\n",
      " Order ID               | 197934               \n",
      " Order Date             | 2024-08-19           \n",
      " Product ID             | BF1544               \n",
      " Product Category       | Other                \n",
      " Buyer Gender           | Male                 \n",
      " Buyer Age              | 28                   \n",
      " Order Location         | Pittsburgh           \n",
      " International Shipping | No                   \n",
      " Sales Price            | 9                    \n",
      " Shipping Charges       | 0                    \n",
      " Sales per Unit         | 9                    \n",
      " Quantity               | 2                    \n",
      " Total Sales            | 18                   \n",
      " Rating                 | 3                    \n",
      " Review                 | Had slight delays... \n",
      "-RECORD 4--------------------------------------\n",
      " Order ID               | 122470               \n",
      " Order Date             | 2024-01-06           \n",
      " Product ID             | BF1545               \n",
      " Product Category       | Other                \n",
      " Buyer Gender           | Female               \n",
      " Buyer Age              | 19                   \n",
      " Order Location         | Miami                \n",
      " International Shipping | No                   \n",
      " Sales Price            | 10                   \n",
      " Shipping Charges       | 0                    \n",
      " Sales per Unit         | 10                   \n",
      " Quantity               | 3                    \n",
      " Total Sales            | 30                   \n",
      " Rating                 | 5                    \n",
      " Review                 | Lack of delivery ... \n",
      "only showing top 5 rows\n",
      "\n"
     ]
    }
   ],
   "source": [
    "dr = spark.read.csv('merch_sales.csv', header=True, inferSchema=True)\n",
    "dr.show(5, vertical=True) # vertical=True --> untuk menampilkan kolom dengan view vertical, agar dapat terlihat jelas berapa kolom dan bagaimana datanya"
   ]
  },
  {
   "cell_type": "code",
   "execution_count": 4,
   "id": "85771353-1125-492a-b613-bfe517b8e562",
   "metadata": {},
   "outputs": [
    {
     "name": "stdout",
     "output_type": "stream",
     "text": [
      "root\n",
      " |-- Order ID: integer (nullable = true)\n",
      " |-- Order Date: date (nullable = true)\n",
      " |-- Product ID: string (nullable = true)\n",
      " |-- Product Category: string (nullable = true)\n",
      " |-- Buyer Gender: string (nullable = true)\n",
      " |-- Buyer Age: integer (nullable = true)\n",
      " |-- Order Location: string (nullable = true)\n",
      " |-- International Shipping: string (nullable = true)\n",
      " |-- Sales Price: integer (nullable = true)\n",
      " |-- Shipping Charges: integer (nullable = true)\n",
      " |-- Sales per Unit: integer (nullable = true)\n",
      " |-- Quantity: integer (nullable = true)\n",
      " |-- Total Sales: integer (nullable = true)\n",
      " |-- Rating: integer (nullable = true)\n",
      " |-- Review: string (nullable = true)\n",
      "\n"
     ]
    },
    {
     "data": {
      "text/plain": [
       "7394"
      ]
     },
     "execution_count": 4,
     "metadata": {},
     "output_type": "execute_result"
    }
   ],
   "source": [
    "dr.printSchema()\n",
    "dr.count()"
   ]
  },
  {
   "cell_type": "code",
   "execution_count": 5,
   "id": "d61b89b2-0614-456e-8f4b-0f86c39b680f",
   "metadata": {},
   "outputs": [
    {
     "name": "stdout",
     "output_type": "stream",
     "text": [
      "-RECORD 0------------------------------------\n",
      " summary                | count              \n",
      " Order ID               | 7394               \n",
      " Product ID             | 7394               \n",
      " Product Category       | 7394               \n",
      " Buyer Gender           | 7394               \n",
      " Buyer Age              | 7394               \n",
      " Order Location         | 7394               \n",
      " International Shipping | 7394               \n",
      " Sales Price            | 7394               \n",
      " Shipping Charges       | 7394               \n",
      " Sales per Unit         | 7394               \n",
      " Quantity               | 7394               \n",
      " Total Sales            | 7394               \n",
      " Rating                 | 7394               \n",
      " Review                 | 7394               \n",
      "-RECORD 1------------------------------------\n",
      " summary                | mean               \n",
      " Order ID               | 159735.13402758993 \n",
      " Product ID             | NULL               \n",
      " Product Category       | NULL               \n",
      " Buyer Gender           | NULL               \n",
      " Buyer Age              | 26.45550446307817  \n",
      " Order Location         | NULL               \n",
      " International Shipping | NULL               \n",
      " Sales Price            | 55.165404381931296 \n",
      " Shipping Charges       | 14.633486610765486 \n",
      " Sales per Unit         | 69.79889099269678  \n",
      " Quantity               | 1.668109277792805  \n",
      " Total Sales            | 115.83202596700028 \n",
      " Rating                 | 3.4990532864484716 \n",
      " Review                 | NULL               \n",
      "-RECORD 2------------------------------------\n",
      " summary                | stddev             \n",
      " Order ID               | 23040.2471941141   \n",
      " Product ID             | NULL               \n",
      " Product Category       | NULL               \n",
      " Buyer Gender           | NULL               \n",
      " Buyer Age              | 5.208202192266013  \n",
      " Order Location         | NULL               \n",
      " International Shipping | NULL               \n",
      " Sales Price            | 39.5756141047149   \n",
      " Shipping Charges       | 24.81571943027314  \n",
      " Sales per Unit         | 46.7023260340121   \n",
      " Quantity               | 1.0813983767806732 \n",
      " Total Sales            | 118.0679600900154  \n",
      " Rating                 | 1.3897313003275609 \n",
      " Review                 | NULL               \n",
      "-RECORD 3------------------------------------\n",
      " summary                | min                \n",
      " Order ID               | 120005             \n",
      " Product ID             | BF1543             \n",
      " Product Category       | Clothing           \n",
      " Buyer Gender           | Female             \n",
      " Buyer Age              | 18                 \n",
      " Order Location         | Austin             \n",
      " International Shipping | No                 \n",
      " Sales Price            | 9                  \n",
      " Shipping Charges       | 0                  \n",
      " Sales per Unit         | 9                  \n",
      " Quantity               | 1                  \n",
      " Total Sales            | 9                  \n",
      " Rating                 | 1                  \n",
      " Review                 | Average product    \n",
      "-RECORD 4------------------------------------\n",
      " summary                | max                \n",
      " Order ID               | 199994             \n",
      " Product ID             | BF1555             \n",
      " Product Category       | Other              \n",
      " Buyer Gender           | Male               \n",
      " Buyer Age              | 35                 \n",
      " Order Location         | Toronto            \n",
      " International Shipping | Yes                \n",
      " Sales Price            | 130                \n",
      " Shipping Charges       | 100                \n",
      " Sales per Unit         | 230                \n",
      " Quantity               | 5                  \n",
      " Total Sales            | 1000               \n",
      " Rating                 | 5                  \n",
      " Review                 | Waste of Money.    \n",
      "\n"
     ]
    }
   ],
   "source": [
    "dr.describe().show(vertical=True)"
   ]
  },
  {
   "cell_type": "code",
   "execution_count": 6,
   "id": "cb30681d-cd1a-4d50-8b92-00f02e6ea2eb",
   "metadata": {},
   "outputs": [
    {
     "name": "stdout",
     "output_type": "stream",
     "text": [
      "(0 rows)\n",
      "\n"
     ]
    }
   ],
   "source": [
    "# Cek Duplicated Row\n",
    "dr.exceptAll(dr.dropDuplicates()).show(vertical=True)"
   ]
  },
  {
   "cell_type": "markdown",
   "id": "191ad726-fb97-4012-90ab-2e790f3fecf1",
   "metadata": {
    "jp-MarkdownHeadingCollapsed": true
   },
   "source": [
    "## Kesimpulan"
   ]
  },
  {
   "cell_type": "markdown",
   "id": "5f04d5d5-ae54-41e1-9235-be95cb97409b",
   "metadata": {},
   "source": [
    "Berdasarkan eksplorasi data yang telah dilakukan, didapatkan bahwa:\n",
    "- Terdapat 15 kolom\n",
    "- Terdapat 7394 baris\n",
    "- Tidak terdapat missing value\n",
    "- Tipe data tiap kolom sudah sesuai\n",
    "- Tidak terdapat duplicated data\n",
    "- Nama kolom masih belum sesuai dengan snake case rule\n",
    "\n",
    "Hal yang perlu dilakukan pada proses Transform:\n",
    "- Pengubahan nama kolom menjadi snake case rule"
   ]
  },
  {
   "cell_type": "markdown",
   "id": "e2882eee-8e11-481e-ab71-e22884a25714",
   "metadata": {},
   "source": [
    "# Great Expectation"
   ]
  },
  {
   "cell_type": "markdown",
   "id": "ce64ff0f-ec44-41a1-b246-e18d843605e2",
   "metadata": {},
   "source": [
    "## Instantiate Data Context"
   ]
  },
  {
   "cell_type": "markdown",
   "id": "e18688a3-9366-4f9c-bf13-567a3c12a34b",
   "metadata": {},
   "source": [
    "Install Module and Import library"
   ]
  },
  {
   "cell_type": "code",
   "execution_count": 1,
   "id": "915d3429-b27f-47df-bf8a-7eccc4f9d5aa",
   "metadata": {},
   "outputs": [],
   "source": [
    "# Install Library\n",
    "!pip install -q \"great-expectations==0.18.19\", \"numpy<2\""
   ]
  },
  {
   "cell_type": "code",
   "execution_count": 2,
   "id": "28a0ba88-acfd-43de-a2f4-3fa9423ddc43",
   "metadata": {},
   "outputs": [],
   "source": [
    "# Import Library\n",
    "from great_expectations.data_context import FileDataContext"
   ]
  },
  {
   "cell_type": "code",
   "execution_count": 3,
   "id": "12f3262c-e9ab-47d1-a7ce-aa4961752778",
   "metadata": {},
   "outputs": [],
   "source": [
    "context = FileDataContext.create(project_root_dir='./')"
   ]
  },
  {
   "cell_type": "markdown",
   "id": "c5c76294-d489-4252-a406-7b5933684952",
   "metadata": {},
   "source": [
    "## Connect to Datasource"
   ]
  },
  {
   "cell_type": "code",
   "execution_count": 4,
   "id": "dcd7e628-5147-43d7-8d2e-9baa68845197",
   "metadata": {},
   "outputs": [],
   "source": [
    "# Give a name to a Datasource. This name must be unique between Datasources.\n",
    "datasource_name = 'csv-merch-sales-2023-2024'\n",
    "datasource = context.sources.add_pandas(datasource_name)\n",
    "\n",
    "# Give a name to a data asset\n",
    "asset_name = 'sales-2023-2024'\n",
    "path_to_data = '/Users/afifmakruf/Desktop/Hacktiv8/RMT-002/Repo/airflow-with-spark/logs/data_staging/P2M3_afif_makruf_data_cleaned.csv'\n",
    "asset = datasource.add_csv_asset(asset_name, filepath_or_buffer=path_to_data)\n",
    "\n",
    "# Build batch request\n",
    "batch_request = asset.build_batch_request()"
   ]
  },
  {
   "cell_type": "markdown",
   "id": "a7d22d2a-a2fc-4c6b-9bf0-201ae3003f9a",
   "metadata": {},
   "source": [
    "## Create an Expectation Suite and Validator"
   ]
  },
  {
   "cell_type": "code",
   "execution_count": 5,
   "id": "66cf15a9-1cbd-40fc-bb30-0c00fd0a541b",
   "metadata": {},
   "outputs": [
    {
     "data": {
      "application/vnd.jupyter.widget-view+json": {
       "model_id": "d1fdf2821aa74f279be46c200e16eb83",
       "version_major": 2,
       "version_minor": 0
      },
      "text/plain": [
       "Calculating Metrics:   0%|          | 0/1 [00:00<?, ?it/s]"
      ]
     },
     "metadata": {},
     "output_type": "display_data"
    },
    {
     "data": {
      "text/html": [
       "<div>\n",
       "<style scoped>\n",
       "    .dataframe tbody tr th:only-of-type {\n",
       "        vertical-align: middle;\n",
       "    }\n",
       "\n",
       "    .dataframe tbody tr th {\n",
       "        vertical-align: top;\n",
       "    }\n",
       "\n",
       "    .dataframe thead th {\n",
       "        text-align: right;\n",
       "    }\n",
       "</style>\n",
       "<table border=\"1\" class=\"dataframe\">\n",
       "  <thead>\n",
       "    <tr style=\"text-align: right;\">\n",
       "      <th></th>\n",
       "      <th>order_id</th>\n",
       "      <th>order_date</th>\n",
       "      <th>product_id</th>\n",
       "      <th>product_category</th>\n",
       "      <th>buer_gender</th>\n",
       "      <th>buyer_age</th>\n",
       "      <th>order_location</th>\n",
       "      <th>international_shipping</th>\n",
       "      <th>sales_price</th>\n",
       "      <th>shipping_charges</th>\n",
       "      <th>sales_per_unit</th>\n",
       "      <th>quantity</th>\n",
       "      <th>total_sales</th>\n",
       "      <th>rating</th>\n",
       "      <th>review</th>\n",
       "    </tr>\n",
       "  </thead>\n",
       "  <tbody>\n",
       "    <tr>\n",
       "      <th>0</th>\n",
       "      <td>189440</td>\n",
       "      <td>2024-07-21</td>\n",
       "      <td>BF1543</td>\n",
       "      <td>Clothing</td>\n",
       "      <td>Male</td>\n",
       "      <td>30</td>\n",
       "      <td>New Jersey</td>\n",
       "      <td>No</td>\n",
       "      <td>100</td>\n",
       "      <td>0</td>\n",
       "      <td>100</td>\n",
       "      <td>1</td>\n",
       "      <td>100</td>\n",
       "      <td>4</td>\n",
       "      <td>The delivery team handled the product with care.</td>\n",
       "    </tr>\n",
       "    <tr>\n",
       "      <th>1</th>\n",
       "      <td>187385</td>\n",
       "      <td>2024-07-20</td>\n",
       "      <td>BF1543</td>\n",
       "      <td>Clothing</td>\n",
       "      <td>Male</td>\n",
       "      <td>32</td>\n",
       "      <td>Las Vegas</td>\n",
       "      <td>No</td>\n",
       "      <td>100</td>\n",
       "      <td>0</td>\n",
       "      <td>100</td>\n",
       "      <td>1</td>\n",
       "      <td>100</td>\n",
       "      <td>3</td>\n",
       "      <td>Had slight delays but the product was in good ...</td>\n",
       "    </tr>\n",
       "    <tr>\n",
       "      <th>2</th>\n",
       "      <td>181844</td>\n",
       "      <td>2024-07-21</td>\n",
       "      <td>BF1544</td>\n",
       "      <td>Other</td>\n",
       "      <td>Female</td>\n",
       "      <td>26</td>\n",
       "      <td>Cardiff</td>\n",
       "      <td>Yes</td>\n",
       "      <td>9</td>\n",
       "      <td>40</td>\n",
       "      <td>49</td>\n",
       "      <td>1</td>\n",
       "      <td>49</td>\n",
       "      <td>2</td>\n",
       "      <td>Waste of Money.</td>\n",
       "    </tr>\n",
       "    <tr>\n",
       "      <th>3</th>\n",
       "      <td>197934</td>\n",
       "      <td>2024-08-19</td>\n",
       "      <td>BF1544</td>\n",
       "      <td>Other</td>\n",
       "      <td>Male</td>\n",
       "      <td>28</td>\n",
       "      <td>Pittsburgh</td>\n",
       "      <td>No</td>\n",
       "      <td>9</td>\n",
       "      <td>0</td>\n",
       "      <td>9</td>\n",
       "      <td>2</td>\n",
       "      <td>18</td>\n",
       "      <td>3</td>\n",
       "      <td>Had slight delays but the product was in good ...</td>\n",
       "    </tr>\n",
       "    <tr>\n",
       "      <th>4</th>\n",
       "      <td>122470</td>\n",
       "      <td>2024-01-06</td>\n",
       "      <td>BF1545</td>\n",
       "      <td>Other</td>\n",
       "      <td>Female</td>\n",
       "      <td>19</td>\n",
       "      <td>Miami</td>\n",
       "      <td>No</td>\n",
       "      <td>10</td>\n",
       "      <td>0</td>\n",
       "      <td>10</td>\n",
       "      <td>3</td>\n",
       "      <td>30</td>\n",
       "      <td>5</td>\n",
       "      <td>Lack of delivery delays is greatly appreciated.</td>\n",
       "    </tr>\n",
       "  </tbody>\n",
       "</table>\n",
       "</div>"
      ],
      "text/plain": [
       "   order_id  order_date product_id product_category buer_gender  buyer_age  \\\n",
       "0    189440  2024-07-21     BF1543         Clothing        Male         30   \n",
       "1    187385  2024-07-20     BF1543         Clothing        Male         32   \n",
       "2    181844  2024-07-21     BF1544            Other      Female         26   \n",
       "3    197934  2024-08-19     BF1544            Other        Male         28   \n",
       "4    122470  2024-01-06     BF1545            Other      Female         19   \n",
       "\n",
       "  order_location international_shipping  sales_price  shipping_charges  \\\n",
       "0     New Jersey                     No          100                 0   \n",
       "1      Las Vegas                     No          100                 0   \n",
       "2        Cardiff                    Yes            9                40   \n",
       "3     Pittsburgh                     No            9                 0   \n",
       "4          Miami                     No           10                 0   \n",
       "\n",
       "   sales_per_unit  quantity  total_sales  rating  \\\n",
       "0             100         1          100       4   \n",
       "1             100         1          100       3   \n",
       "2              49         1           49       2   \n",
       "3               9         2           18       3   \n",
       "4              10         3           30       5   \n",
       "\n",
       "                                              review  \n",
       "0   The delivery team handled the product with care.  \n",
       "1  Had slight delays but the product was in good ...  \n",
       "2                                    Waste of Money.  \n",
       "3  Had slight delays but the product was in good ...  \n",
       "4    Lack of delivery delays is greatly appreciated.  "
      ]
     },
     "execution_count": 5,
     "metadata": {},
     "output_type": "execute_result"
    }
   ],
   "source": [
    "# Creat an expectation suite\n",
    "expectation_suite_name = 'expectation-merch-dataset'\n",
    "context.add_or_update_expectation_suite(expectation_suite_name)\n",
    "\n",
    "# Create a validator using above expectation suite\n",
    "validator = context.get_validator(\n",
    "    batch_request = batch_request,\n",
    "    expectation_suite_name = expectation_suite_name\n",
    ")\n",
    "\n",
    "# Check the validator\n",
    "validator.head()"
   ]
  },
  {
   "cell_type": "markdown",
   "id": "552fc52d-2416-44ac-8b03-a2c409e06c46",
   "metadata": {},
   "source": [
    "## Expectations"
   ]
  },
  {
   "cell_type": "markdown",
   "id": "bf49c565-db4b-47be-ab32-97b0c9d9668a",
   "metadata": {},
   "source": [
    "Expectation 1 : Column `order_id` must be unique"
   ]
  },
  {
   "cell_type": "code",
   "execution_count": 6,
   "id": "79285076-36fe-4333-80ae-88e1e29f2ea9",
   "metadata": {},
   "outputs": [
    {
     "data": {
      "application/vnd.jupyter.widget-view+json": {
       "model_id": "2406523ce4114f718ce3b626b48b8455",
       "version_major": 2,
       "version_minor": 0
      },
      "text/plain": [
       "Calculating Metrics:   0%|          | 0/8 [00:00<?, ?it/s]"
      ]
     },
     "metadata": {},
     "output_type": "display_data"
    },
    {
     "data": {
      "text/plain": [
       "{\n",
       "  \"success\": true,\n",
       "  \"result\": {\n",
       "    \"element_count\": 7394,\n",
       "    \"unexpected_count\": 0,\n",
       "    \"unexpected_percent\": 0.0,\n",
       "    \"partial_unexpected_list\": [],\n",
       "    \"missing_count\": 0,\n",
       "    \"missing_percent\": 0.0,\n",
       "    \"unexpected_percent_total\": 0.0,\n",
       "    \"unexpected_percent_nonmissing\": 0.0\n",
       "  },\n",
       "  \"meta\": {},\n",
       "  \"exception_info\": {\n",
       "    \"raised_exception\": false,\n",
       "    \"exception_traceback\": null,\n",
       "    \"exception_message\": null\n",
       "  }\n",
       "}"
      ]
     },
     "execution_count": 6,
     "metadata": {},
     "output_type": "execute_result"
    }
   ],
   "source": [
    "validator.expect_column_values_to_be_unique('order_id')"
   ]
  },
  {
   "cell_type": "markdown",
   "id": "f06fba61-c8d2-4ce8-b592-0b13985c183a",
   "metadata": {},
   "source": [
    "Expectation 2 : Column `buyer_age` value type must be float or int"
   ]
  },
  {
   "cell_type": "code",
   "execution_count": 7,
   "id": "1d326b9e-cf8f-4fcc-8375-a7bc312a85b7",
   "metadata": {},
   "outputs": [
    {
     "data": {
      "application/vnd.jupyter.widget-view+json": {
       "model_id": "51e92542ae044e8c953a631727018405",
       "version_major": 2,
       "version_minor": 0
      },
      "text/plain": [
       "Calculating Metrics:   0%|          | 0/1 [00:00<?, ?it/s]"
      ]
     },
     "metadata": {},
     "output_type": "display_data"
    },
    {
     "data": {
      "text/plain": [
       "{\n",
       "  \"success\": true,\n",
       "  \"result\": {\n",
       "    \"observed_value\": \"int64\"\n",
       "  },\n",
       "  \"meta\": {},\n",
       "  \"exception_info\": {\n",
       "    \"raised_exception\": false,\n",
       "    \"exception_traceback\": null,\n",
       "    \"exception_message\": null\n",
       "  }\n",
       "}"
      ]
     },
     "execution_count": 7,
     "metadata": {},
     "output_type": "execute_result"
    }
   ],
   "source": [
    "validator.expect_column_values_to_be_in_type_list(\n",
    "    column='buyer_age',\n",
    "    type_list=['FLOAT', 'INT']\n",
    ")\n",
    "#Integer saja"
   ]
  },
  {
   "cell_type": "markdown",
   "id": "783e5225",
   "metadata": {},
   "source": [
    "Expectation 2 : Column `sales_price` value type must be float or int"
   ]
  },
  {
   "cell_type": "code",
   "execution_count": 8,
   "id": "1035942d",
   "metadata": {},
   "outputs": [
    {
     "data": {
      "application/vnd.jupyter.widget-view+json": {
       "model_id": "76ed745de39c4758adcdce4aad119c11",
       "version_major": 2,
       "version_minor": 0
      },
      "text/plain": [
       "Calculating Metrics:   0%|          | 0/1 [00:00<?, ?it/s]"
      ]
     },
     "metadata": {},
     "output_type": "display_data"
    },
    {
     "data": {
      "text/plain": [
       "{\n",
       "  \"success\": true,\n",
       "  \"result\": {\n",
       "    \"observed_value\": \"int64\"\n",
       "  },\n",
       "  \"meta\": {},\n",
       "  \"exception_info\": {\n",
       "    \"raised_exception\": false,\n",
       "    \"exception_traceback\": null,\n",
       "    \"exception_message\": null\n",
       "  }\n",
       "}"
      ]
     },
     "execution_count": 8,
     "metadata": {},
     "output_type": "execute_result"
    }
   ],
   "source": [
    "validator.expect_column_values_to_be_in_type_list(\n",
    "    column='sales_price',\n",
    "    type_list=['FLOAT', 'INT']\n",
    ")"
   ]
  },
  {
   "cell_type": "markdown",
   "id": "6cb31745",
   "metadata": {},
   "source": [
    "Expectation 2 : Column `shipping_charges` value type must be float or int"
   ]
  },
  {
   "cell_type": "code",
   "execution_count": 9,
   "id": "62c9e799",
   "metadata": {},
   "outputs": [
    {
     "data": {
      "application/vnd.jupyter.widget-view+json": {
       "model_id": "c0c31f428d434eddbf515a0f4b7af24f",
       "version_major": 2,
       "version_minor": 0
      },
      "text/plain": [
       "Calculating Metrics:   0%|          | 0/1 [00:00<?, ?it/s]"
      ]
     },
     "metadata": {},
     "output_type": "display_data"
    },
    {
     "data": {
      "text/plain": [
       "{\n",
       "  \"success\": true,\n",
       "  \"result\": {\n",
       "    \"observed_value\": \"int64\"\n",
       "  },\n",
       "  \"meta\": {},\n",
       "  \"exception_info\": {\n",
       "    \"raised_exception\": false,\n",
       "    \"exception_traceback\": null,\n",
       "    \"exception_message\": null\n",
       "  }\n",
       "}"
      ]
     },
     "execution_count": 9,
     "metadata": {},
     "output_type": "execute_result"
    }
   ],
   "source": [
    "validator.expect_column_values_to_be_in_type_list(\n",
    "    column='shipping_charges',\n",
    "    type_list=['FLOAT', 'INT']\n",
    ")"
   ]
  },
  {
   "cell_type": "markdown",
   "id": "761d9a09",
   "metadata": {},
   "source": [
    "Expectation 2 : Column `sales_per_unit` value type must be float or int"
   ]
  },
  {
   "cell_type": "code",
   "execution_count": 10,
   "id": "ad575aae",
   "metadata": {},
   "outputs": [
    {
     "data": {
      "application/vnd.jupyter.widget-view+json": {
       "model_id": "80226d28adb541cba2cd50a300b35e67",
       "version_major": 2,
       "version_minor": 0
      },
      "text/plain": [
       "Calculating Metrics:   0%|          | 0/1 [00:00<?, ?it/s]"
      ]
     },
     "metadata": {},
     "output_type": "display_data"
    },
    {
     "data": {
      "text/plain": [
       "{\n",
       "  \"success\": true,\n",
       "  \"result\": {\n",
       "    \"observed_value\": \"int64\"\n",
       "  },\n",
       "  \"meta\": {},\n",
       "  \"exception_info\": {\n",
       "    \"raised_exception\": false,\n",
       "    \"exception_traceback\": null,\n",
       "    \"exception_message\": null\n",
       "  }\n",
       "}"
      ]
     },
     "execution_count": 10,
     "metadata": {},
     "output_type": "execute_result"
    }
   ],
   "source": [
    "validator.expect_column_values_to_be_in_type_list(\n",
    "    column='sales_per_unit',\n",
    "    type_list=['FLOAT', 'INT']\n",
    ")"
   ]
  },
  {
   "cell_type": "markdown",
   "id": "c5f074f6",
   "metadata": {},
   "source": [
    "Expectation 2 : Column `quantity` value type must be float or int"
   ]
  },
  {
   "cell_type": "code",
   "execution_count": 11,
   "id": "0ac8ad1a",
   "metadata": {},
   "outputs": [
    {
     "data": {
      "application/vnd.jupyter.widget-view+json": {
       "model_id": "b7319503376e4ee992fac06d51193381",
       "version_major": 2,
       "version_minor": 0
      },
      "text/plain": [
       "Calculating Metrics:   0%|          | 0/1 [00:00<?, ?it/s]"
      ]
     },
     "metadata": {},
     "output_type": "display_data"
    },
    {
     "data": {
      "text/plain": [
       "{\n",
       "  \"success\": true,\n",
       "  \"result\": {\n",
       "    \"observed_value\": \"int64\"\n",
       "  },\n",
       "  \"meta\": {},\n",
       "  \"exception_info\": {\n",
       "    \"raised_exception\": false,\n",
       "    \"exception_traceback\": null,\n",
       "    \"exception_message\": null\n",
       "  }\n",
       "}"
      ]
     },
     "execution_count": 11,
     "metadata": {},
     "output_type": "execute_result"
    }
   ],
   "source": [
    "validator.expect_column_values_to_be_in_type_list(\n",
    "    column='quantity',\n",
    "    type_list=['FLOAT', 'INT']\n",
    ")\n",
    "# integer"
   ]
  },
  {
   "cell_type": "markdown",
   "id": "4bfd189d",
   "metadata": {},
   "source": [
    "Expectation 2 : Column `total_sales` value type must be float or int"
   ]
  },
  {
   "cell_type": "code",
   "execution_count": 12,
   "id": "d63997b5",
   "metadata": {},
   "outputs": [
    {
     "data": {
      "application/vnd.jupyter.widget-view+json": {
       "model_id": "73063bded895417091d25e5a4d75a7e0",
       "version_major": 2,
       "version_minor": 0
      },
      "text/plain": [
       "Calculating Metrics:   0%|          | 0/1 [00:00<?, ?it/s]"
      ]
     },
     "metadata": {},
     "output_type": "display_data"
    },
    {
     "data": {
      "text/plain": [
       "{\n",
       "  \"success\": true,\n",
       "  \"result\": {\n",
       "    \"observed_value\": \"int64\"\n",
       "  },\n",
       "  \"meta\": {},\n",
       "  \"exception_info\": {\n",
       "    \"raised_exception\": false,\n",
       "    \"exception_traceback\": null,\n",
       "    \"exception_message\": null\n",
       "  }\n",
       "}"
      ]
     },
     "execution_count": 12,
     "metadata": {},
     "output_type": "execute_result"
    }
   ],
   "source": [
    "validator.expect_column_values_to_be_in_type_list(\n",
    "    column='total_sales',\n",
    "    type_list=['FLOAT', 'INT']\n",
    ")"
   ]
  },
  {
   "cell_type": "markdown",
   "id": "5716b4e3",
   "metadata": {},
   "source": [
    "Expectation 2 : Column `rating` value type must be float or int"
   ]
  },
  {
   "cell_type": "code",
   "execution_count": 13,
   "id": "8f363a3f",
   "metadata": {},
   "outputs": [
    {
     "data": {
      "application/vnd.jupyter.widget-view+json": {
       "model_id": "610000c5092246e5be00c8f1af509653",
       "version_major": 2,
       "version_minor": 0
      },
      "text/plain": [
       "Calculating Metrics:   0%|          | 0/1 [00:00<?, ?it/s]"
      ]
     },
     "metadata": {},
     "output_type": "display_data"
    },
    {
     "data": {
      "text/plain": [
       "{\n",
       "  \"success\": true,\n",
       "  \"result\": {\n",
       "    \"observed_value\": \"int64\"\n",
       "  },\n",
       "  \"meta\": {},\n",
       "  \"exception_info\": {\n",
       "    \"raised_exception\": false,\n",
       "    \"exception_traceback\": null,\n",
       "    \"exception_message\": null\n",
       "  }\n",
       "}"
      ]
     },
     "execution_count": 13,
     "metadata": {},
     "output_type": "execute_result"
    }
   ],
   "source": [
    "validator.expect_column_values_to_be_in_type_list(\n",
    "    column='rating',\n",
    "    type_list=['FLOAT', 'INT']\n",
    ")\n",
    "#Integer"
   ]
  },
  {
   "cell_type": "markdown",
   "id": "2dc7b9e7-f39d-41db-b125-04b5d26d939f",
   "metadata": {},
   "source": [
    "Expectation 3 : Column `total_sales` must be exist to calculate the amount of transaction costs that must be paid"
   ]
  },
  {
   "cell_type": "code",
   "execution_count": 14,
   "id": "ddbaf3a7-3ada-48f7-929d-1f029de1cb49",
   "metadata": {},
   "outputs": [
    {
     "data": {
      "application/vnd.jupyter.widget-view+json": {
       "model_id": "cbbbb9af09f54299944df399306b6e8b",
       "version_major": 2,
       "version_minor": 0
      },
      "text/plain": [
       "Calculating Metrics:   0%|          | 0/2 [00:00<?, ?it/s]"
      ]
     },
     "metadata": {},
     "output_type": "display_data"
    },
    {
     "data": {
      "text/plain": [
       "{\n",
       "  \"success\": true,\n",
       "  \"result\": {},\n",
       "  \"meta\": {},\n",
       "  \"exception_info\": {\n",
       "    \"raised_exception\": false,\n",
       "    \"exception_traceback\": null,\n",
       "    \"exception_message\": null\n",
       "  }\n",
       "}"
      ]
     },
     "execution_count": 14,
     "metadata": {},
     "output_type": "execute_result"
    }
   ],
   "source": [
    "validator.expect_column_to_exist(column='total_sales')"
   ]
  },
  {
   "cell_type": "markdown",
   "id": "7db26aec-3809-435f-9b9c-add7a2f30c51",
   "metadata": {},
   "source": [
    "Expectation 4 : Column `product_category` must contain one of the following 3 things :\n",
    "1. Clothing\n",
    "2. Other\n",
    "3. Ornaments"
   ]
  },
  {
   "cell_type": "code",
   "execution_count": 15,
   "id": "483b0527-92c7-4b8d-a332-e46f942ea263",
   "metadata": {},
   "outputs": [
    {
     "data": {
      "application/vnd.jupyter.widget-view+json": {
       "model_id": "77b17a783c674c97abd12c0064a03f8f",
       "version_major": 2,
       "version_minor": 0
      },
      "text/plain": [
       "Calculating Metrics:   0%|          | 0/8 [00:00<?, ?it/s]"
      ]
     },
     "metadata": {},
     "output_type": "display_data"
    },
    {
     "data": {
      "text/plain": [
       "{\n",
       "  \"success\": true,\n",
       "  \"result\": {\n",
       "    \"element_count\": 7394,\n",
       "    \"unexpected_count\": 0,\n",
       "    \"unexpected_percent\": 0.0,\n",
       "    \"partial_unexpected_list\": [],\n",
       "    \"missing_count\": 0,\n",
       "    \"missing_percent\": 0.0,\n",
       "    \"unexpected_percent_total\": 0.0,\n",
       "    \"unexpected_percent_nonmissing\": 0.0\n",
       "  },\n",
       "  \"meta\": {},\n",
       "  \"exception_info\": {\n",
       "    \"raised_exception\": false,\n",
       "    \"exception_traceback\": null,\n",
       "    \"exception_message\": null\n",
       "  }\n",
       "}"
      ]
     },
     "execution_count": 15,
     "metadata": {},
     "output_type": "execute_result"
    }
   ],
   "source": [
    "validator.expect_column_values_to_be_in_set('product_category', ['Clothing', 'Other', 'Ornaments'])"
   ]
  },
  {
   "cell_type": "markdown",
   "id": "a425371b-bd99-48a9-b19f-d967c68e8874",
   "metadata": {},
   "source": [
    "Expectation 5 : Column `total_sales` must be greater or equal than Column `sales_price`"
   ]
  },
  {
   "cell_type": "code",
   "execution_count": 16,
   "id": "8159e69c-e6ad-4f11-b657-c3a4d915ee4e",
   "metadata": {},
   "outputs": [
    {
     "data": {
      "application/vnd.jupyter.widget-view+json": {
       "model_id": "368d05ad268b42fb98e3a42950f1c365",
       "version_major": 2,
       "version_minor": 0
      },
      "text/plain": [
       "Calculating Metrics:   0%|          | 0/7 [00:00<?, ?it/s]"
      ]
     },
     "metadata": {},
     "output_type": "display_data"
    },
    {
     "data": {
      "text/plain": [
       "{\n",
       "  \"success\": true,\n",
       "  \"result\": {\n",
       "    \"element_count\": 7394,\n",
       "    \"unexpected_count\": 0,\n",
       "    \"unexpected_percent\": 0.0,\n",
       "    \"partial_unexpected_list\": [],\n",
       "    \"missing_count\": 0,\n",
       "    \"missing_percent\": 0.0,\n",
       "    \"unexpected_percent_total\": 0.0,\n",
       "    \"unexpected_percent_nonmissing\": 0.0\n",
       "  },\n",
       "  \"meta\": {},\n",
       "  \"exception_info\": {\n",
       "    \"raised_exception\": false,\n",
       "    \"exception_traceback\": null,\n",
       "    \"exception_message\": null\n",
       "  }\n",
       "}"
      ]
     },
     "execution_count": 16,
     "metadata": {},
     "output_type": "execute_result"
    }
   ],
   "source": [
    "validator.expect_column_pair_values_a_to_be_greater_than_b(column_A='total_sales',column_B='sales_price', or_equal=True)"
   ]
  },
  {
   "cell_type": "markdown",
   "id": "f595da43-088e-48a5-97ff-17b628ee0ef6",
   "metadata": {},
   "source": [
    "Expectation 6 : Column `rating` value must be between 1 to 5"
   ]
  },
  {
   "cell_type": "code",
   "execution_count": 17,
   "id": "4ad8d25b-b09a-4f34-b3bb-e2ef682281b6",
   "metadata": {},
   "outputs": [
    {
     "data": {
      "application/vnd.jupyter.widget-view+json": {
       "model_id": "fde9686b55f34083a19c7bfd932e83fe",
       "version_major": 2,
       "version_minor": 0
      },
      "text/plain": [
       "Calculating Metrics:   0%|          | 0/8 [00:00<?, ?it/s]"
      ]
     },
     "metadata": {},
     "output_type": "display_data"
    },
    {
     "data": {
      "text/plain": [
       "{\n",
       "  \"success\": true,\n",
       "  \"result\": {\n",
       "    \"element_count\": 7394,\n",
       "    \"unexpected_count\": 0,\n",
       "    \"unexpected_percent\": 0.0,\n",
       "    \"partial_unexpected_list\": [],\n",
       "    \"missing_count\": 0,\n",
       "    \"missing_percent\": 0.0,\n",
       "    \"unexpected_percent_total\": 0.0,\n",
       "    \"unexpected_percent_nonmissing\": 0.0\n",
       "  },\n",
       "  \"meta\": {},\n",
       "  \"exception_info\": {\n",
       "    \"raised_exception\": false,\n",
       "    \"exception_traceback\": null,\n",
       "    \"exception_message\": null\n",
       "  }\n",
       "}"
      ]
     },
     "execution_count": 17,
     "metadata": {},
     "output_type": "execute_result"
    }
   ],
   "source": [
    "validator.expect_column_values_to_be_between(column=\"rating\", min_value=1, max_value=5)"
   ]
  },
  {
   "cell_type": "markdown",
   "id": "68469453-6696-40a8-8ca0-8ac72d26304c",
   "metadata": {},
   "source": [
    "Expectation 7 : Column `order_date` value format must be in Year-Month-Day"
   ]
  },
  {
   "cell_type": "code",
   "execution_count": 18,
   "id": "d4cc3dd8-c792-45b4-81ad-c4c178abe6c3",
   "metadata": {},
   "outputs": [
    {
     "data": {
      "application/vnd.jupyter.widget-view+json": {
       "model_id": "ecac2f821d414b399ad1f8ee6b1da978",
       "version_major": 2,
       "version_minor": 0
      },
      "text/plain": [
       "Calculating Metrics:   0%|          | 0/8 [00:00<?, ?it/s]"
      ]
     },
     "metadata": {},
     "output_type": "display_data"
    },
    {
     "data": {
      "text/plain": [
       "{\n",
       "  \"success\": true,\n",
       "  \"result\": {\n",
       "    \"element_count\": 7394,\n",
       "    \"unexpected_count\": 0,\n",
       "    \"unexpected_percent\": 0.0,\n",
       "    \"partial_unexpected_list\": [],\n",
       "    \"missing_count\": 0,\n",
       "    \"missing_percent\": 0.0,\n",
       "    \"unexpected_percent_total\": 0.0,\n",
       "    \"unexpected_percent_nonmissing\": 0.0\n",
       "  },\n",
       "  \"meta\": {},\n",
       "  \"exception_info\": {\n",
       "    \"raised_exception\": false,\n",
       "    \"exception_traceback\": null,\n",
       "    \"exception_message\": null\n",
       "  }\n",
       "}"
      ]
     },
     "execution_count": 18,
     "metadata": {},
     "output_type": "execute_result"
    }
   ],
   "source": [
    "validator.expect_column_values_to_match_strftime_format('order_date', '%Y-%m-%d')"
   ]
  },
  {
   "cell_type": "markdown",
   "id": "50ef022a-6978-4c01-a2f9-16c459a5c01a",
   "metadata": {},
   "source": [
    "Expectation 8 : Column `product_id` must be starting from BF"
   ]
  },
  {
   "cell_type": "code",
   "execution_count": 19,
   "id": "54d5e2da-6d47-40f1-a443-f59a3da8f8b3",
   "metadata": {},
   "outputs": [
    {
     "data": {
      "application/vnd.jupyter.widget-view+json": {
       "model_id": "19d693877b714ed3b1de5c26627aa84f",
       "version_major": 2,
       "version_minor": 0
      },
      "text/plain": [
       "Calculating Metrics:   0%|          | 0/8 [00:00<?, ?it/s]"
      ]
     },
     "metadata": {},
     "output_type": "display_data"
    },
    {
     "data": {
      "text/plain": [
       "{\n",
       "  \"success\": true,\n",
       "  \"result\": {\n",
       "    \"element_count\": 7394,\n",
       "    \"unexpected_count\": 0,\n",
       "    \"unexpected_percent\": 0.0,\n",
       "    \"partial_unexpected_list\": [],\n",
       "    \"missing_count\": 0,\n",
       "    \"missing_percent\": 0.0,\n",
       "    \"unexpected_percent_total\": 0.0,\n",
       "    \"unexpected_percent_nonmissing\": 0.0\n",
       "  },\n",
       "  \"meta\": {},\n",
       "  \"exception_info\": {\n",
       "    \"raised_exception\": false,\n",
       "    \"exception_traceback\": null,\n",
       "    \"exception_message\": null\n",
       "  }\n",
       "}"
      ]
     },
     "execution_count": 19,
     "metadata": {},
     "output_type": "execute_result"
    }
   ],
   "source": [
    "validator.expect_column_values_to_match_regex('product_id', '^BF.*')"
   ]
  },
  {
   "cell_type": "markdown",
   "id": "fcc7e0f7-4687-4ee9-b794-e4c29565eaf4",
   "metadata": {},
   "source": [
    "Save into Expectation Suite"
   ]
  },
  {
   "cell_type": "code",
   "execution_count": 20,
   "id": "53a4adce-45cd-410a-a709-5957f298e98d",
   "metadata": {},
   "outputs": [],
   "source": [
    "validator.save_expectation_suite(discard_failed_expectations=False)"
   ]
  },
  {
   "cell_type": "markdown",
   "id": "1876f7e5",
   "metadata": {},
   "source": [
    "Checkpoint"
   ]
  },
  {
   "cell_type": "code",
   "execution_count": 21,
   "id": "87a4df88-6019-4873-8739-4a65b805174b",
   "metadata": {},
   "outputs": [],
   "source": [
    "checkpoint_1 = context.add_or_update_checkpoint(\n",
    "    name = 'checkpoint_1',\n",
    "    validator = validator,\n",
    ")"
   ]
  },
  {
   "cell_type": "markdown",
   "id": "8a1de0c1",
   "metadata": {},
   "source": [
    "Run Checkpoint"
   ]
  },
  {
   "cell_type": "code",
   "execution_count": 22,
   "id": "d8b51970-e7f1-49be-ada4-2e48ca74474d",
   "metadata": {},
   "outputs": [
    {
     "data": {
      "application/vnd.jupyter.widget-view+json": {
       "model_id": "56b90c8a78f0411d86c8624a2d8c66b2",
       "version_major": 2,
       "version_minor": 0
      },
      "text/plain": [
       "Calculating Metrics:   0%|          | 0/44 [00:00<?, ?it/s]"
      ]
     },
     "metadata": {},
     "output_type": "display_data"
    }
   ],
   "source": [
    "checkpoint_result = checkpoint_1.run()"
   ]
  },
  {
   "cell_type": "markdown",
   "id": "582d174e",
   "metadata": {},
   "source": [
    "Build Data Docs"
   ]
  },
  {
   "cell_type": "code",
   "execution_count": 23,
   "id": "61229bda",
   "metadata": {},
   "outputs": [
    {
     "data": {
      "text/plain": [
       "{'local_site': 'file:///Users/afifmakruf/Desktop/Hacktiv8/RMT-002/Repo/p2-coda002-rmt-m3-afifmakruf/gx/uncommitted/data_docs/local_site/index.html'}"
      ]
     },
     "execution_count": 23,
     "metadata": {},
     "output_type": "execute_result"
    }
   ],
   "source": [
    "context.build_data_docs()"
   ]
  },
  {
   "cell_type": "markdown",
   "id": "7caad7c5",
   "metadata": {},
   "source": [
    "## Kesimpulan"
   ]
  },
  {
   "cell_type": "markdown",
   "id": "b5fd4998",
   "metadata": {},
   "source": [
    "Berdasarkan Expectation yang telah dibuat, maka perlu beberapa hal yang dilakukan pada proses transform, diantaranya:\n",
    "- Kolom dengan jenis data numerik akan dilakukan validasi. Apabila terdapat data yang masuk dan tidak bertipe data integer atau float, maka akan dilakukan penyesuaian\n",
    "- Kolom `order_date` memiliki format yang telah ditentukan, yakni %Y%m%d. Apabila terdapat data yang masuk dan belum sesuai, maka akan dilakukan penyesuaian"
   ]
  }
 ],
 "metadata": {
  "kernelspec": {
   "display_name": "base",
   "language": "python",
   "name": "python3"
  },
  "language_info": {
   "codemirror_mode": {
    "name": "ipython",
    "version": 3
   },
   "file_extension": ".py",
   "mimetype": "text/x-python",
   "name": "python",
   "nbconvert_exporter": "python",
   "pygments_lexer": "ipython3",
   "version": "3.12.7"
  }
 },
 "nbformat": 4,
 "nbformat_minor": 5
}
